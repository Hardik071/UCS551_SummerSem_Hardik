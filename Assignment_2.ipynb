{
  "nbformat": 4,
  "nbformat_minor": 0,
  "metadata": {
    "colab": {
      "provenance": []
    },
    "kernelspec": {
      "name": "python3",
      "display_name": "Python 3"
    },
    "language_info": {
      "name": "python"
    }
  },
  "cells": [
    {
      "cell_type": "markdown",
      "source": [
        "# **Q1. Web Scraping with BeautifulSoup**"
      ],
      "metadata": {
        "id": "96xLzggrxX9O"
      }
    },
    {
      "cell_type": "code",
      "execution_count": 155,
      "metadata": {
        "id": "30bt4Y9fwz0d"
      },
      "outputs": [],
      "source": [
        "import requests\n",
        "from bs4 import BeautifulSoup\n",
        "import pandas as pd"
      ]
    },
    {
      "cell_type": "code",
      "source": [
        "url = 'https://books.toscrape.com/'\n",
        "response = requests.get(url)\n",
        "\n",
        "soup = BeautifulSoup(response.text,'html.parser')\n",
        "books = soup.find_all('article', class_='product_pod')\n",
        "\n",
        "data = []\n",
        "\n",
        "for _ in books[:10]:\n",
        "  title = _.h3.a['title']\n",
        "  price = _.find('p',class_='price_color').text.strip()\n",
        "  print(f\"Title:{title}\\n Price:{price}\\n\")\n",
        "  data.append({\"Title\":title,\"Price\":price})\n",
        "\n",
        "df = pd.DataFrame(data)\n",
        "df.to_csv('books.csv')\n",
        "print(\"data saved to book.csv\")\n"
      ],
      "metadata": {
        "colab": {
          "base_uri": "https://localhost:8080/"
        },
        "id": "piH1fReJxq70",
        "outputId": "f3d36066-1d34-4162-bff2-e1ed123c7ca0"
      },
      "execution_count": 156,
      "outputs": [
        {
          "output_type": "stream",
          "name": "stdout",
          "text": [
            "Title:A Light in the Attic\n",
            " Price:Â£51.77\n",
            "\n",
            "Title:Tipping the Velvet\n",
            " Price:Â£53.74\n",
            "\n",
            "Title:Soumission\n",
            " Price:Â£50.10\n",
            "\n",
            "Title:Sharp Objects\n",
            " Price:Â£47.82\n",
            "\n",
            "Title:Sapiens: A Brief History of Humankind\n",
            " Price:Â£54.23\n",
            "\n",
            "Title:The Requiem Red\n",
            " Price:Â£22.65\n",
            "\n",
            "Title:The Dirty Little Secrets of Getting Your Dream Job\n",
            " Price:Â£33.34\n",
            "\n",
            "Title:The Coming Woman: A Novel Based on the Life of the Infamous Feminist, Victoria Woodhull\n",
            " Price:Â£17.93\n",
            "\n",
            "Title:The Boys in the Boat: Nine Americans and Their Epic Quest for Gold at the 1936 Berlin Olympics\n",
            " Price:Â£22.60\n",
            "\n",
            "Title:The Black Maria\n",
            " Price:Â£52.15\n",
            "\n",
            "data saved to book.csv\n"
          ]
        }
      ]
    },
    {
      "cell_type": "markdown",
      "source": [
        "# **Q2: API-Based News Collection**"
      ],
      "metadata": {
        "id": "xnZwfy2t1LkY"
      }
    },
    {
      "cell_type": "code",
      "source": [
        "import requests\n",
        "import json"
      ],
      "metadata": {
        "id": "M_C9v12y6Iji"
      },
      "execution_count": 149,
      "outputs": []
    },
    {
      "cell_type": "code",
      "source": [
        "api_key = \"1cd71b964e9b4e7ea27d6ffd4e1f2700\"\n",
        "\n",
        "# \"https://newsapi.org/v2/top-headlines?country=in&Category=technology&apiKey=1cd71b964e9b4e7ea27d6ffd4e1f2700\"\n",
        "\n",
        "url = (\n",
        "    \"https://newsapi.org/v2/top-headlines?\"\n",
        "    \"country=us&\"\n",
        "    \"category=technology&\"\n",
        "    \"pageSize=10&\"\n",
        "    f\"apiKey={api_key}\"\n",
        ")\n",
        "\n",
        "response = requests.get(url)\n",
        "response.raise_for_status()\n",
        "news_data = response.json()\n",
        "\n",
        "articles = news_data.get('articles', [])\n",
        "\n",
        "data = []\n",
        "\n",
        "for _ in articles:\n",
        "  title = _.get('title')\n",
        "  source = _.get('source',{}).get('name')\n",
        "  published_at = _.get('publishedAt')\n",
        "\n",
        "  print(f\"Title:{title}\")\n",
        "  print(f\"Source:{source}\")\n",
        "  print(f\"Published At:{published_at}\")\n",
        "\n",
        "  data.append({\n",
        "      \"Title\":title,\n",
        "      \"Source\":source,\n",
        "      \"Published At\":published_at\n",
        "  })"
      ],
      "metadata": {
        "colab": {
          "base_uri": "https://localhost:8080/"
        },
        "id": "FGuooV_V6ydS",
        "outputId": "d73e7952-5f0f-4ab9-c559-fa625ff70b4d"
      },
      "execution_count": 150,
      "outputs": [
        {
          "output_type": "stream",
          "name": "stdout",
          "text": [
            "Title:The unbearable obviousness of AI fitness summaries - The Verge\n",
            "Source:The Verge\n",
            "Published At:2025-06-29T14:00:00Z\n",
            "Title:Amazon Is Going Nuts, Mac Mini Rival (Windows 11 Pro, 1TB SSD, 32GB RAM) Now Costs Peanuts - Gizmodo\n",
            "Source:Gizmodo.com\n",
            "Published At:2025-06-29T12:10:22Z\n",
            "Title:12 Things You Should Never Store in an Outdoor Shed - Real Simple\n",
            "Source:Real Simple\n",
            "Published At:2025-06-29T11:02:00Z\n",
            "Title:A neural brain implant provides near instantaneous speech - Ars Technica\n",
            "Source:Ars Technica\n",
            "Published At:2025-06-29T11:00:58Z\n",
            "Title:Student Solves a Long-Standing Problem About the Limits of Addition - WIRED\n",
            "Source:Wired\n",
            "Published At:2025-06-29T11:00:00Z\n",
            "Title:Direct Injection Engines: Why Carbon Buildup Happens (And How To Prevent It) - Jalopnik\n",
            "Source:Jalopnik\n",
            "Published At:2025-06-29T09:25:00Z\n",
            "Title:Cyberpunk 2077 massive multiplayer update leaves fans floored - GAMINGbible\n",
            "Source:Gamingbible.com\n",
            "Published At:2025-06-29T08:49:04Z\n",
            "Title:Google Confirms Upgrade Choice For 2 Billion Android Users - Forbes\n",
            "Source:Forbes\n",
            "Published At:2025-06-29T07:53:43Z\n",
            "Title:Should you buy the iPhone 16 or wait for the iPhone 17? Here’s the advice I gave my own dad - Tom's Guide\n",
            "Source:Tom's Guide\n",
            "Published At:2025-06-29T05:01:00Z\n",
            "Title:Pokemon Legends: Z-A Fans Split Over Potential Leak: \"Is This AI? - ComicBook.com\n",
            "Source:ComicBook.com\n",
            "Published At:2025-06-29T02:00:00Z\n"
          ]
        }
      ]
    },
    {
      "cell_type": "code",
      "source": [
        "file_name = \"news.json\"\n",
        "with open(file_name,'w') as f:\n",
        "  json.dump(data,f)\n",
        "\n",
        "print(f\"data saved to {file_name}\")"
      ],
      "metadata": {
        "colab": {
          "base_uri": "https://localhost:8080/"
        },
        "id": "ns0VmBH_93X-",
        "outputId": "c9955592-5f4b-4d31-9fc3-1f71e1c23ab7"
      },
      "execution_count": 151,
      "outputs": [
        {
          "output_type": "stream",
          "name": "stdout",
          "text": [
            "data saved to news.json\n"
          ]
        }
      ]
    },
    {
      "cell_type": "markdown",
      "source": [
        "# **Q3: Weather Data Collection**"
      ],
      "metadata": {
        "id": "Nr5B0qLA_Ycf"
      }
    },
    {
      "cell_type": "code",
      "source": [
        "import requests\n",
        "import pandas as pd\n",
        "import matplotlib.pyplot as plt"
      ],
      "metadata": {
        "id": "FK-kKoAO_8Ko"
      },
      "execution_count": 152,
      "outputs": []
    },
    {
      "cell_type": "code",
      "source": [
        "api_key = \"0af8551aa4485e6cc428ce2ded74c849\"\n",
        "\n",
        "# List of Indian cities\n",
        "cities = ['Delhi', 'Leh', 'Srinagar', 'Jammu', 'Punjab']\n",
        "\n",
        "url = \"http://api.openweathermap.org/data/2.5/weather\"\n",
        "\n",
        "# Collect weather data\n",
        "weather_data = []\n",
        "\n",
        "for city in cities:\n",
        "    try:\n",
        "        params = {\n",
        "            'q': city,\n",
        "            'appid': api_key,\n",
        "            'units': 'metric'\n",
        "        }\n",
        "        response = requests.get(url, params=params)\n",
        "        response.raise_for_status()\n",
        "\n",
        "        data = response.json()\n",
        "\n",
        "        city_name = data['name']\n",
        "        temp = data['main']['temp']\n",
        "        humidity = data['main']['humidity']\n",
        "        condition = data['weather'][0]['description']\n",
        "\n",
        "        weather_data.append({\n",
        "            'City': city_name,\n",
        "            'Temperature (°C)': temp,\n",
        "            'Humidity (%)': humidity,\n",
        "            'Condition': condition.title()\n",
        "        })\n",
        "\n",
        "    except:\n",
        "       print(f\"Error fetching data \")\n",
        "\n",
        "# Create DataFrame\n",
        "df = pd.DataFrame(weather_data)\n",
        "print(\"\\nWeather Data:\")\n",
        "print(df)\n"
      ],
      "metadata": {
        "colab": {
          "base_uri": "https://localhost:8080/"
        },
        "id": "sVQyXc1__8WT",
        "outputId": "c56a0518-e0e1-401f-da9f-358abf5aa565"
      },
      "execution_count": 164,
      "outputs": [
        {
          "output_type": "stream",
          "name": "stdout",
          "text": [
            "\n",
            "Weather Data:\n",
            "       City  Temperature (°C)  Humidity (%)        Condition\n",
            "0     Delhi             27.05            94             Mist\n",
            "1       Leh             18.03            20        Clear Sky\n",
            "2  Srinagar             23.56            62    Broken Clouds\n",
            "3     Jammu             30.20            66       Few Clouds\n",
            "4    Punjab             32.49            51  Overcast Clouds\n"
          ]
        }
      ]
    },
    {
      "cell_type": "code",
      "source": [
        "# plot temp\n",
        "plt.figure(figsize=(10, 6))\n",
        "plt.bar(df['City'], df['Temperature (°C)'], color='skyblue')\n",
        "plt.title('Current Temperatures in Indian Cities', fontsize=18)\n",
        "plt.xlabel('City', fontsize=18)\n",
        "plt.ylabel('Temperature (°C)', fontsize=18)\n",
        "plt.ylim(min(df['Temperature (°C)']) - 4, max(df['Temperature (°C)']) + 4)\n",
        "plt.grid(axis='y', linestyle='--', alpha=0.7)\n",
        "\n",
        "# Add temperature values on bars\n",
        "for i, temp in enumerate(df['Temperature (°C)']):\n",
        "    plt.text(i, temp + 0.3, f'{temp:.1f}°C', ha='center', fontsize=10)\n",
        "\n",
        "plt.tight_layout()\n",
        "plt.savefig('temp.png')\n",
        "plt.show()"
      ],
      "metadata": {
        "colab": {
          "base_uri": "https://localhost:8080/",
          "height": 607
        },
        "id": "Z40biB6MXORt",
        "outputId": "6814a3c9-7bda-47b3-b67b-908ad992a17e"
      },
      "execution_count": 165,
      "outputs": [
        {
          "output_type": "display_data",
          "data": {
            "text/plain": [
              "<Figure size 1000x600 with 1 Axes>"
            ],
            "image/png": "[encoded data removed]"
          },
          "metadata": {}
        }
      ]
    },
    {
      "cell_type": "code",
      "source": [],
      "metadata": {
        "id": "DonlwJnuYMgZ"
      },
      "execution_count": 154,
      "outputs": []
    }
  ]
}